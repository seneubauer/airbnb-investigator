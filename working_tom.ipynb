{
 "cells": [
  {
   "cell_type": "code",
   "execution_count": null,
   "metadata": {},
   "outputs": [],
   "source": [
    "# Import Dependencies\n",
    "import os\n",
    "import pandas as pd\n",
    "import requests\n",
    "import json\n",
    "import csv\n",
    "import datetime as dt\n",
    "from dateutil.relativedelta import relativedelta \n",
    "import psycopg2\n",
    "import psycopg2.extras as extras \n",
    "import numpy as np\n"
   ]
  },
  {
   "cell_type": "code",
   "execution_count": null,
   "metadata": {},
   "outputs": [],
   "source": [
    "# Read csv files\n",
    "airbnb_csv = pd.read_csv(\"./Data/AB_US_2020.csv\", low_memory=False)\n",
    "airbnb = airbnb_csv\n",
    "airbnb_csv.head()\n",
    "airbnb = airbnb_csv\n",
    "airports = \"./Data/airports.csv\""
   ]
  },
  {
   "cell_type": "code",
   "execution_count": null,
   "metadata": {},
   "outputs": [],
   "source": [
    "# SQL insert functiont to insert airbnb_csv into a PostgreSQL table.\n",
    "\n",
    "def execute_values(conn, df, table):\n",
    "\n",
    "\ttuples = [tuple(x) for x in df.to_numpy()]\n",
    "\n",
    "\tcols = ','.join(list(df.columns))\n",
    "\t# SQL query to execute\n",
    "\tquery = \"INSERT INTO %s(%s) VALUES %%s\" % (table, cols)\n",
    "\tcursor = conn.cursor()\n",
    "\ttry:\n",
    "\t\textras.execute_values(cursor, query, tuples)\n",
    "\t\tconn.commit()\n",
    "\texcept (Exception, psycopg2.DatabaseError) as error:\n",
    "\t\tprint(\"Error: %s\" % error)\n",
    "\t\tconn.rollback()\n",
    "\t\tcursor.close()\n",
    "\t\treturn 1\n",
    "\tprint(\"the dataframe is inserted\")\n",
    "\tcursor.close()\n",
    "\n",
    "\n",
    "conn = psycopg2.connect(\n",
    "\tdatabase=\"AirBnB\", user='postgres', password='bootcamp', host='127.0.0.1', port='5432'\n",
    ")\n",
    "\n",
    "df = pd.read_csv('./Data/AB_US_2020.csv', low_memory=False)\n",
    "\n",
    "execute_values(conn, df, 'stg_airbnbs')\n"
   ]
  },
  {
   "cell_type": "code",
   "execution_count": null,
   "metadata": {},
   "outputs": [],
   "source": [
    "## SQL insert functiont to insert airports into a PostgreSQL table.\n",
    "\n",
    "def execute_values(conn, df, table):\n",
    "\n",
    "\ttuples = [tuple(x) for x in df.to_numpy()]\n",
    "\n",
    "\tcols = ','.join(list(df.columns))\n",
    "\t# SQL query to execute\n",
    "\tquery = \"INSERT INTO %s(%s) VALUES %%s\" % (table, cols)\n",
    "\tcursor = conn.cursor()\n",
    "\ttry:\n",
    "\t\textras.execute_values(cursor, query, tuples)\n",
    "\t\tconn.commit()\n",
    "\texcept (Exception, psycopg2.DatabaseError) as error:\n",
    "\t\tprint(\"Error: %s\" % error)\n",
    "\t\tconn.rollback()\n",
    "\t\tcursor.close()\n",
    "\t\treturn 1\n",
    "\tprint(\"the dataframe is inserted\")\n",
    "\tcursor.close()\n",
    "\n",
    "\n",
    "conn = psycopg2.connect(\n",
    "\tdatabase=\"AirBnB\", user='postgres', password='bootcamp', host='127.0.0.1', port='5432'\n",
    ")\n",
    "\n",
    "df = pd.read_csv('./Data/airports.csv', usecols = ['IATA', 'AIRPORT', 'CITY','STATE','LATITUDE','LONGITUDE'], low_memory=False)\n",
    "\n",
    "execute_values(conn, df, 'stg_airports')"
   ]
  },
  {
   "cell_type": "code",
   "execution_count": null,
   "metadata": {},
   "outputs": [],
   "source": []
  }
 ],
 "metadata": {
  "kernelspec": {
   "display_name": "Python 3.8.13 ('-Python38')",
   "language": "python",
   "name": "python3"
  },
  "language_info": {
   "codemirror_mode": {
    "name": "ipython",
    "version": 3
   },
   "file_extension": ".py",
   "mimetype": "text/x-python",
   "name": "python",
   "nbconvert_exporter": "python",
   "pygments_lexer": "ipython3",
   "version": "3.8.13"
  },
  "orig_nbformat": 4,
  "vscode": {
   "interpreter": {
    "hash": "d194a54f50f837936af2d7dcf32d4aa772a8724148b89f2563b16fc1480c324a"
   }
  }
 },
 "nbformat": 4,
 "nbformat_minor": 2
}
