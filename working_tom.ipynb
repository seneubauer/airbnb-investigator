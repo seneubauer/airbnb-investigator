{
 "cells": [
  {
   "cell_type": "code",
   "execution_count": 1,
   "metadata": {},
   "outputs": [],
   "source": [
    "# Import Dependencies\n",
    "import os\n",
    "import pandas as pd\n",
    "import requests\n",
    "import json\n",
    "import csv\n",
    "import datetime as dt\n",
    "from dateutil.relativedelta import relativedelta \n",
    "import psycopg2\n",
    "import psycopg2.extras as extras \n",
    "import numpy as np\n"
   ]
  },
  {
   "cell_type": "code",
   "execution_count": 14,
   "metadata": {},
   "outputs": [
    {
     "data": {
      "text/html": [
       "<div>\n",
       "<style scoped>\n",
       "    .dataframe tbody tr th:only-of-type {\n",
       "        vertical-align: middle;\n",
       "    }\n",
       "\n",
       "    .dataframe tbody tr th {\n",
       "        vertical-align: top;\n",
       "    }\n",
       "\n",
       "    .dataframe thead th {\n",
       "        text-align: right;\n",
       "    }\n",
       "</style>\n",
       "<table border=\"1\" class=\"dataframe\">\n",
       "  <thead>\n",
       "    <tr style=\"text-align: right;\">\n",
       "      <th></th>\n",
       "      <th>IATA</th>\n",
       "      <th>AIRPORT</th>\n",
       "      <th>CITY</th>\n",
       "      <th>STATE</th>\n",
       "      <th>COUNTRY</th>\n",
       "      <th>LATITUDE</th>\n",
       "      <th>LONGITUDE</th>\n",
       "    </tr>\n",
       "  </thead>\n",
       "  <tbody>\n",
       "    <tr>\n",
       "      <th>0</th>\n",
       "      <td>ABQ</td>\n",
       "      <td>Albuquerque International</td>\n",
       "      <td>Albuquerque</td>\n",
       "      <td>NM</td>\n",
       "      <td>USA</td>\n",
       "      <td>35.040222</td>\n",
       "      <td>-106.609194</td>\n",
       "    </tr>\n",
       "    <tr>\n",
       "      <th>1</th>\n",
       "      <td>ANC</td>\n",
       "      <td>Ted Stevens Anchorage International</td>\n",
       "      <td>Anchorage</td>\n",
       "      <td>AK</td>\n",
       "      <td>USA</td>\n",
       "      <td>61.174320</td>\n",
       "      <td>-149.996186</td>\n",
       "    </tr>\n",
       "    <tr>\n",
       "      <th>2</th>\n",
       "      <td>ATL</td>\n",
       "      <td>William B Hartsfield-Atlanta Intl</td>\n",
       "      <td>Atlanta</td>\n",
       "      <td>GA</td>\n",
       "      <td>USA</td>\n",
       "      <td>33.640444</td>\n",
       "      <td>-84.426944</td>\n",
       "    </tr>\n",
       "    <tr>\n",
       "      <th>3</th>\n",
       "      <td>AUS</td>\n",
       "      <td>Austin-Bergstrom International</td>\n",
       "      <td>Austin</td>\n",
       "      <td>TX</td>\n",
       "      <td>USA</td>\n",
       "      <td>30.194533</td>\n",
       "      <td>-97.669872</td>\n",
       "    </tr>\n",
       "    <tr>\n",
       "      <th>4</th>\n",
       "      <td>BDL</td>\n",
       "      <td>Bradley International</td>\n",
       "      <td>Windsor Locks</td>\n",
       "      <td>CT</td>\n",
       "      <td>USA</td>\n",
       "      <td>41.938874</td>\n",
       "      <td>-72.683228</td>\n",
       "    </tr>\n",
       "  </tbody>\n",
       "</table>\n",
       "</div>"
      ],
      "text/plain": [
       "  IATA                              AIRPORT           CITY STATE COUNTRY  \\\n",
       "0  ABQ            Albuquerque International    Albuquerque    NM     USA   \n",
       "1  ANC  Ted Stevens Anchorage International      Anchorage    AK     USA   \n",
       "2  ATL    William B Hartsfield-Atlanta Intl        Atlanta    GA     USA   \n",
       "3  AUS       Austin-Bergstrom International         Austin    TX     USA   \n",
       "4  BDL                Bradley International  Windsor Locks    CT     USA   \n",
       "\n",
       "    LATITUDE   LONGITUDE  \n",
       "0  35.040222 -106.609194  \n",
       "1  61.174320 -149.996186  \n",
       "2  33.640444  -84.426944  \n",
       "3  30.194533  -97.669872  \n",
       "4  41.938874  -72.683228  "
      ]
     },
     "execution_count": 14,
     "metadata": {},
     "output_type": "execute_result"
    }
   ],
   "source": [
    "# Read csv files\n",
    "airbnb_csv = pd.read_csv(\"./Data/AB_US_2020.csv\", low_memory=False)\n",
    "airports_csv = pd.read_csv(\"./Data/airports.csv\", low_memory=False)\n",
    "airbnb = airbnb_csv\n",
    "airports = airports_csv\n",
    "airbnb.head()\n",
    "airports.head()\n"
   ]
  },
  {
   "cell_type": "code",
   "execution_count": 21,
   "metadata": {},
   "outputs": [
    {
     "name": "stdout",
     "output_type": "stream",
     "text": [
      "the dataframe is inserted\n"
     ]
    }
   ],
   "source": [
    "# SQL insert functiont to insert airbnb_csv into a PostgreSQL table.\n",
    "\n",
    "def execute_values(conn, df, table):\n",
    "\n",
    "\ttuples = [tuple(x) for x in df.to_numpy()]\n",
    "\n",
    "\tcols = ','.join(list(df.columns))\n",
    "\t# SQL query to execute\n",
    "\tquery = \"INSERT INTO %s(%s) VALUES %%s\" % (table, cols)\n",
    "\tcursor = conn.cursor()\n",
    "\ttry:\n",
    "\t\textras.execute_values(cursor, query, tuples)\n",
    "\t\tconn.commit()\n",
    "\texcept (Exception, psycopg2.DatabaseError) as error:\n",
    "\t\tprint(\"Error: %s\" % error)\n",
    "\t\tconn.rollback()\n",
    "\t\tcursor.close()\n",
    "\t\treturn 1\n",
    "\tprint(\"the dataframe is inserted\")\n",
    "\tcursor.close()\n",
    "\n",
    "\n",
    "conn = psycopg2.connect(\n",
    "\tdatabase=\"AirBnB\", user='postgres', password='bootcamp', host='127.0.0.1', port='5432'\n",
    ")\n",
    "\n",
    "df = pd.read_csv('./Data/AB_US_2020.csv', low_memory=False)\n",
    "\n",
    "execute_values(conn, df, 'stg_airbnbs')"
   ]
  },
  {
   "cell_type": "code",
   "execution_count": 22,
   "metadata": {},
   "outputs": [
    {
     "name": "stdout",
     "output_type": "stream",
     "text": [
      "the dataframe is inserted\n"
     ]
    }
   ],
   "source": [
    "## SQL insert functiont to insert airports into a PostgreSQL table.\n",
    "\n",
    "def execute_values(conn, df, table):\n",
    "\n",
    "\ttuples = [tuple(x) for x in df.to_numpy()]\n",
    "\n",
    "\tcols = ','.join(list(df.columns))\n",
    "\t# SQL query to execute\n",
    "\tquery = \"INSERT INTO %s(%s) VALUES %%s\" % (table, cols)\n",
    "\tcursor = conn.cursor()\n",
    "\ttry:\n",
    "\t\textras.execute_values(cursor, query, tuples)\n",
    "\t\tconn.commit()\n",
    "\texcept (Exception, psycopg2.DatabaseError) as error:\n",
    "\t\tprint(\"Error: %s\" % error)\n",
    "\t\tconn.rollback()\n",
    "\t\tcursor.close()\n",
    "\t\treturn 1\n",
    "\tprint(\"the dataframe is inserted\")\n",
    "\tcursor.close()\n",
    "\n",
    "\n",
    "conn = psycopg2.connect(\n",
    "\tdatabase=\"AirBnB\", user='postgres', password='bootcamp', host='127.0.0.1', port='5432'\n",
    ")\n",
    "\n",
    "df = pd.read_csv('./Data/airports.csv', usecols = ['IATA', 'AIRPORT', 'CITY','STATE','LATITUDE','LONGITUDE'], low_memory=False)\n",
    "\n",
    "execute_values(conn, df, 'stg_airports')"
   ]
  },
  {
   "cell_type": "code",
   "execution_count": null,
   "metadata": {},
   "outputs": [],
   "source": []
  }
 ],
 "metadata": {
  "kernelspec": {
   "display_name": "Python 3.8.13 ('Python38')",
   "language": "python",
   "name": "python3"
  },
  "language_info": {
   "codemirror_mode": {
    "name": "ipython",
    "version": 3
   },
   "file_extension": ".py",
   "mimetype": "text/x-python",
   "name": "python",
   "nbconvert_exporter": "python",
   "pygments_lexer": "ipython3",
   "version": "3.8.13"
  },
  "orig_nbformat": 4,
  "vscode": {
   "interpreter": {
    "hash": "7113e3970f98a4d04de61aad7e2a4e99472b30f3b9a9e79f0555aab5ccdb8ff2"
   }
  }
 },
 "nbformat": 4,
 "nbformat_minor": 2
}
